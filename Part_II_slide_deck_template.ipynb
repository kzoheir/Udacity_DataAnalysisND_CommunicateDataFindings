{
 "cells": [
  {
   "cell_type": "markdown",
   "metadata": {
    "slideshow": {
     "slide_type": "slide"
    }
   },
   "source": [
    "# Part II - Visualizing FordGoBike Data\n",
    "## by: Khaled Zoheir"
   ]
  },
  {
   "cell_type": "markdown",
   "metadata": {
    "slideshow": {
     "slide_type": "subslide"
    }
   },
   "source": [
    "## Investigation Overview\n",
    "\n",
    "\n",
    "> Bay Wheels is a regional public bicycle sharing system in California's San Francisco Bay Area. It is operated by Motivate in a partnership with the Metropolitan Transportation Commission and the Bay Area Air Quality Management District.\n",
    "\n",
    "> Two differnet perspectives (pupose) of the analysis:Business Perspective: Our main customers are the Subscibers\n",
    "\n",
    "> Operation Perspective: We need to transport some bikes (carrting them using a truck or so) from high end stations to high start stations during peak hours: E.g.: Mon-Fri from 7-9 am: Move bikes from: `San Francisco Caltrain (Townsend St at 4th St)` to:`San Francisco Caltrain (Townsend St at 4th St)` station\n",
    "\n",
    "## Dataset Overview\n",
    "\n",
    "> Udacity provided a link to the dataset. After some work, I found this was for one month only (Feb). Looked at knowledge base: https://knowledge.udacity.com/questions/668930 and them got the files from: https://s3.amazonaws.com/baywheels-data/index.html. This is slightly different dataset with some of the features are missing and others are present"
   ]
  },
  {
   "cell_type": "code",
   "execution_count": 1,
   "metadata": {
    "slideshow": {
     "slide_type": "skip"
    }
   },
   "outputs": [],
   "source": [
    "# import all packages and set plots to be embedded inline\n",
    "import numpy as np\n",
    "import pandas as pd\n",
    "import matplotlib.pyplot as plt\n",
    "import seaborn as sb\n",
    "\n",
    "%matplotlib inline\n",
    "from glob import glob\n",
    "# suppress warnings from final output\n",
    "import warnings\n",
    "warnings.simplefilter(\"ignore\")\n"
   ]
  },
  {
   "cell_type": "code",
   "execution_count": 2,
   "metadata": {
    "slideshow": {
     "slide_type": "skip"
    }
   },
   "outputs": [],
   "source": [
    "# load in the dataset into a pandas dataframe\n",
    "all_months = glob('*.csv')\n",
    "list_data_frame = [pd.read_csv(month, low_memory=False) for month in all_months]\n",
    "df_bike_trips = pd.concat(list_data_frame, ignore_index=True)"
   ]
  },
  {
   "cell_type": "markdown",
   "metadata": {
    "slideshow": {
     "slide_type": "notes"
    }
   },
   "source": [
    "> Note that the above cells have been set as \"Skip\"-type slides. That means\n",
    "that when the notebook is rendered as http slides, those cells won't show up."
   ]
  },
  {
   "cell_type": "code",
   "execution_count": 3,
   "metadata": {
    "slideshow": {
     "slide_type": "skip"
    }
   },
   "outputs": [],
   "source": [
    "df_bike_trips.dropna(subset=['start_station_id' , 'start_station_name', 'end_station_id', 'end_station_name'], inplace=True)\n",
    "df_bike_trips['start_time'] = pd.to_datetime(df_bike_trips['start_time'])\n",
    "df_bike_trips['end_time'] = pd.to_datetime(df_bike_trips['end_time'])\n",
    "\n",
    "df_bike_trips['start_station_id'] = df_bike_trips['start_station_id'].astype('str')\n",
    "df_bike_trips['end_station_id'] = df_bike_trips['end_station_id'].astype('str')\n",
    "df_bike_trips['bike_id'] = df_bike_trips['bike_id'].astype('str')\n",
    "\n",
    "df_bike_trips['user_type'] = df_bike_trips['user_type'].astype('category')\n",
    "df_bike_trips['rental_access_method'] = df_bike_trips['rental_access_method'].astype('category')\n",
    "\n",
    "df_bike_trips['day_of_the_year'] = df_bike_trips['start_time'].dt.dayofyear\n",
    "df_bike_trips['hour_of_day'] = df_bike_trips['start_time'].dt.hour\n",
    "df_bike_trips['day_of_week'] = df_bike_trips['start_time'].dt.dayofweek\n",
    "df_bike_trips['working_day'] = np.where(df_bike_trips['start_time'].dt.dayofweek < 5, True, False)\n",
    "df_bike_trips['month'] = df_bike_trips['start_time'].dt.month\n",
    "df_bike_trips['duration_min'] = df_bike_trips['duration_sec']/60"
   ]
  },
  {
   "cell_type": "code",
   "execution_count": 4,
   "metadata": {},
   "outputs": [],
   "source": [
    "from math import radians, cos, sin, asin, sqrt\n",
    "def g_distance(lat1, lat2, lon1, lon2):\n",
    "    # The math module contains a function named\n",
    "    # radians which converts from degrees to radians.\n",
    "\n",
    "    lon1 = radians(lon1)\n",
    "    lon2 = radians(lon2)\n",
    "    lat1 = radians(lat1)\n",
    "    lat2 = radians(lat2)\n",
    "      \n",
    "    # Haversine formula\n",
    "    dlon = lon2 - lon1\n",
    "    dlat = lat2 - lat1\n",
    "    a = sin(dlat / 2)**2 + cos(lat1) * cos(lat2) * sin(dlon / 2)**2\n",
    " \n",
    "    c = 2 * asin(sqrt(a))\n",
    "    \n",
    "    # Radius of earth in kilometers. Use 3956 for miles\n",
    "    r = 6371\n",
    "      \n",
    "    # calculate the result\n",
    "    return(c * r)\n",
    "df_bike_trips['ground_distance'] = df_bike_trips.apply(lambda x: g_distance(x[\"start_station_latitude\"], x[\"end_station_latitude\"], x[\"start_station_longitude\"], x[\"end_station_longitude\"]), axis=1)\n",
    "\n",
    "df_bike_trips['day_of_the_year'] = df_bike_trips['day_of_the_year'].astype('category')\n",
    "#df_bike_trips['hour_of_day'] = df_bike_trips['hour_of_day'].astype('category') # This is better to be left as numeric\n",
    "df_bike_trips['day_of_week'] = df_bike_trips['day_of_week'].astype('category')\n",
    "df_bike_trips['working_day'] = df_bike_trips['working_day'].astype('bool')\n",
    "df_bike_trips['month'] = df_bike_trips['month'].astype('category')\n",
    "\n",
    "df_bike_trips.drop(['duration_sec'], inplace =True, axis=1)"
   ]
  },
  {
   "cell_type": "code",
   "execution_count": 5,
   "metadata": {},
   "outputs": [],
   "source": [
    "months = ['January', 'February', 'March', 'April', 'May', 'June', 'July', 'August', 'September', 'October', 'November', 'December']\n",
    "week_day = ['Mon', 'Tue', 'Wed', 'Thu', 'Fri', 'Sat', 'Sun']\n",
    "global_sample = False # If True it will display a sample of the data for program syntax testing. If False will work with the whole dataframe\n",
    "def bar_graph_single_feature (df, feature, suptitle, x_label, xticks = \"\", color_palette =4, sample=False):\n",
    "    base_color = sb.color_palette()[color_palette]\n",
    "    graph = sb.catplot(data = (df if sample == False else df.sample(n=100)), x = feature, kind = 'count', aspect = 1.7, color = base_color);\n",
    "\n",
    "    graph.set_axis_labels(x_label, 'Number of Bike Trips'),\n",
    "\n",
    "    graph.fig.suptitle(suptitle, y = 1.05, fontsize = 16, fontweight = 'bold')\n",
    "\n",
    "    if (xticks!= ''):\n",
    "        graph.set_xticklabels(xticks, rotation=75)"
   ]
  },
  {
   "cell_type": "code",
   "execution_count": 6,
   "metadata": {
    "slideshow": {
     "slide_type": "slide"
    }
   },
   "outputs": [
    {
     "name": "stdout",
     "output_type": "stream",
     "text": [
      "Hello\n"
     ]
    },
    {
     "data": {
      "image/png": "[encoded data removed]",
      "text/plain": [
       "<Figure size 612x360 with 1 Axes>"
      ]
     },
     "metadata": {
      "needs_background": "light"
     },
     "output_type": "display_data"
    }
   ],
   "source": [
    "print(\"Hello\")\n",
    "bar_graph_single_feature (df_bike_trips[df_bike_trips.working_day == True], feature='hour_of_day', suptitle='Ford GoBike Usage by start hour in workdays', x_label='Start time', xticks='', sample=False)"
   ]
  },
  {
   "cell_type": "markdown",
   "metadata": {
    "slideshow": {
     "slide_type": "slide"
    }
   },
   "source": [
    "## Thank you\n"
   ]
  },
  {
   "cell_type": "markdown",
   "metadata": {
    "slideshow": {
     "slide_type": "notes"
    }
   },
   "source": [
    ">**Generate Slideshow**: Once you're ready to generate your slideshow, use the `jupyter nbconvert` command to generate the HTML slide show. . From the terminal or command line, use the following expression."
   ]
  },
  {
   "cell_type": "code",
   "execution_count": 7,
   "metadata": {
    "slideshow": {
     "slide_type": "skip"
    }
   },
   "outputs": [
    {
     "name": "stderr",
     "output_type": "stream",
     "text": [
      "[NbConvertApp] Converting notebook Part_II_slide_deck_template.ipynb to slides\n",
      "[NbConvertApp] Writing 636132 bytes to Part_II_slide_deck_template.slides.html\n",
      "[NbConvertApp] Redirecting reveal.js requests to https://cdnjs.cloudflare.com/ajax/libs/reveal.js/3.5.0\n",
      "Traceback (most recent call last):\n",
      "  File \"C:\\Users\\tekom\\anaconda3\\Scripts\\jupyter-nbconvert-script.py\", line 10, in <module>\n",
      "    sys.exit(main())\n",
      "  File \"C:\\Users\\tekom\\anaconda3\\lib\\site-packages\\jupyter_core\\application.py\", line 254, in launch_instance\n",
      "    return super(JupyterApp, cls).launch_instance(argv=argv, **kwargs)\n",
      "  File \"C:\\Users\\tekom\\anaconda3\\lib\\site-packages\\traitlets\\config\\application.py\", line 845, in launch_instance\n",
      "    app.start()\n",
      "  File \"C:\\Users\\tekom\\anaconda3\\lib\\site-packages\\nbconvert\\nbconvertapp.py\", line 350, in start\n",
      "    self.convert_notebooks()\n",
      "  File \"C:\\Users\\tekom\\anaconda3\\lib\\site-packages\\nbconvert\\nbconvertapp.py\", line 524, in convert_notebooks\n",
      "    self.convert_single_notebook(notebook_filename)\n",
      "  File \"C:\\Users\\tekom\\anaconda3\\lib\\site-packages\\nbconvert\\nbconvertapp.py\", line 491, in convert_single_notebook\n",
      "    self.postprocess_single_notebook(write_results)\n",
      "  File \"C:\\Users\\tekom\\anaconda3\\lib\\site-packages\\nbconvert\\nbconvertapp.py\", line 463, in postprocess_single_notebook\n",
      "    self.postprocessor(write_results)\n",
      "  File \"C:\\Users\\tekom\\anaconda3\\lib\\site-packages\\nbconvert\\postprocessors\\base.py\", line 28, in __call__\n",
      "    self.postprocess(input)\n",
      "  File \"C:\\Users\\tekom\\anaconda3\\lib\\site-packages\\nbconvert\\postprocessors\\serve.py\", line 90, in postprocess\n",
      "    http_server.listen(self.port, address=self.ip)\n",
      "  File \"C:\\Users\\tekom\\anaconda3\\lib\\site-packages\\tornado\\tcpserver.py\", line 151, in listen\n",
      "    sockets = bind_sockets(port, address=address)\n",
      "  File \"C:\\Users\\tekom\\anaconda3\\lib\\site-packages\\tornado\\netutil.py\", line 161, in bind_sockets\n",
      "    sock.bind(sockaddr)\n",
      "OSError: [WinError 10048] Only one usage of each socket address (protocol/network address/port) is normally permitted\n"
     ]
    }
   ],
   "source": [
    "!jupyter nbconvert Part_II_slide_deck_template.ipynb --to slides --post serve --no-input --no-prompt"
   ]
  },
  {
   "cell_type": "markdown",
   "metadata": {
    "slideshow": {
     "slide_type": "notes"
    }
   },
   "source": [
    "> This should open a tab in your web browser where you can scroll through your presentation. Sub-slides can be accessed by pressing 'down' when viewing its parent slide. Make sure you remove all of the quote-formatted guide notes like this one before you finish your presentation! At last, you can stop the Kernel. "
   ]
  },
  {
   "cell_type": "code",
   "execution_count": null,
   "metadata": {},
   "outputs": [],
   "source": []
  }
 ],
 "metadata": {
  "celltoolbar": "Slideshow",
  "kernelspec": {
   "display_name": "Python 3",
   "language": "python",
   "name": "python3"
  },
  "language_info": {
   "codemirror_mode": {
    "name": "ipython",
    "version": 3
   },
   "file_extension": ".py",
   "mimetype": "text/x-python",
   "name": "python",
   "nbconvert_exporter": "python",
   "pygments_lexer": "ipython3",
   "version": "3.8.8"
  }
 },
 "nbformat": 4,
 "nbformat_minor": 2
}
